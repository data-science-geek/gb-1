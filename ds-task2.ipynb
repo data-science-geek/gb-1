{
 "cells": [
  {
   "cell_type": "markdown",
   "metadata": {},
   "source": [
    "# Список задач\n",
    "## 1. \n",
    "Вероятность того, что стрелок попадет в мишень, выстрелив один раз, равна 0.8. Стрелок выстрелил 100 раз. Найдите вероятность того, что стрелок попадет в цель ровно 85 раз.\n",
    "## 2.\n",
    "Вероятность того, что лампочка перегорит в течение первого дня эксплуатации, равна 0.0004. В жилом комплексе после ремонта в один день включили 5000 новых лампочек. Какова вероятность, что ни одна из них не перегорит в первый день? Какова вероятность, что перегорят ровно две?\n",
    "## 3.\n",
    "Монету подбросили 144 раза. Какова вероятность, что орел выпадет ровно 70 раз?\n",
    "## 4.\n",
    "В первом ящике находится 10 мячей, из которых 7 - белые. Во втором ящике - 11 мячей, из которых 9 белых. Из каждого ящика вытаскивают случайным образом по два мяча. Какова вероятность того, что все мячи белые? Какова вероятность того, что ровно два мяча белые? Какова вероятность того, что хотя бы один мяч белый?"
   ]
  },
  {
   "cell_type": "code",
   "execution_count": 12,
   "metadata": {},
   "outputs": [],
   "source": [
    "from math import factorial, exp\n",
    "\n",
    "def arrangements(n, k):\n",
    "    return factorial(n) / factorial(n-k)\n",
    "\n",
    "def combinations(n, k):\n",
    "    return factorial(n) / (factorial(k) * factorial(n-k))\n",
    "\n",
    "def permutations(n):\n",
    "    return factorial(n)\n",
    "\n",
    "def factorial(n):\n",
    "    if n < 0:\n",
    "        raise ValueError\n",
    "    result = 1\n",
    "    for i in range(1, n+1):\n",
    "        result *= i\n",
    "    return result        \n",
    "\n",
    "def binomial_distribution(n, k, p):\n",
    "    q = 1 - p\n",
    "    return combinations(n,k) * (p ** k) * (q ** (n - k))\n",
    "\n",
    "def poisson_distribution(n, m, p):\n",
    "    lambd = n * p\n",
    "    return ((lambd ** m) / factorial(m)) * exp(-lambd)\n",
    "    "
   ]
  },
  {
   "cell_type": "code",
   "execution_count": 13,
   "metadata": {},
   "outputs": [
    {
     "name": "stdout",
     "output_type": "stream",
     "text": [
      "0.048061793700746355\n"
     ]
    }
   ],
   "source": [
    "# Задача 1\n",
    "probability = binomial_distribution(100, 85, 0.8)\n",
    "print(probability)\n"
   ]
  },
  {
   "cell_type": "code",
   "execution_count": 14,
   "metadata": {
    "scrolled": true
   },
   "outputs": [
    {
     "name": "stdout",
     "output_type": "stream",
     "text": [
      "0.1353352832366127 0.2706705664732254\n"
     ]
    }
   ],
   "source": [
    "# Задача 2\n",
    "probability_1 = poisson_distribution(5000, 0, 0.0004)\n",
    "probability_2 = poisson_distribution(5000, 2, 0.0004)\n",
    "print(probability_1, probability_2)\n"
   ]
  },
  {
   "cell_type": "code",
   "execution_count": 22,
   "metadata": {},
   "outputs": [
    {
     "name": "stdout",
     "output_type": "stream",
     "text": [
      "0.06281178035144776\n"
     ]
    }
   ],
   "source": [
    "# Задача 3\n",
    "probability = binomial_distribution(144, 70, 0.5)\n",
    "print(probability)\n"
   ]
  },
  {
   "cell_type": "code",
   "execution_count": 33,
   "metadata": {},
   "outputs": [
    {
     "name": "stdout",
     "output_type": "stream",
     "text": [
      "... Проверка равенства событий:  2475.0 2475.0\n",
      "Вероятность того, что все мячи белые 0.3054545454545455\n",
      "Вероятность того, что ровно 2 мяча белые 0.20484848484848484\n",
      "Вероятность того, что хотя бы 1 мяч белый 0.9987878787878788\n"
     ]
    }
   ],
   "source": [
    "# Задача 4\n",
    "all_events = combinations(10,2) * combinations(11,2)\n",
    "count_events_4 = combinations(7,2) * combinations(9,2)\n",
    "count_events_2 = combinations(7,2) * combinations(2,2) \\\n",
    "                 + (combinations(7,1) * combinations(3,1)) * (combinations(9,1) * combinations(2,1))\\\n",
    "                 + combinations(3,2) * combinations(9,2)\n",
    "count_events_3 = combinations(7,2) * (combinations(9,1) * combinations(2,1)) \\\n",
    "                 + (combinations(7,1) * combinations(3,1)) * combinations(9,2)\n",
    "count_events_1 = (combinations(7,1) * combinations(3,1)) * combinations(2,2)\\\n",
    "                 + combinations(3,2) * (combinations(9,1) * combinations(2,1))\n",
    "count_events_0 = combinations(3,2) * combinations(2,2)\n",
    "\n",
    "probability_1 = count_events_4 / all_events\n",
    "probability_2 = count_events_2 / all_events\n",
    "probability_3 = (all_events - count_events_0) / all_events\n",
    "print('... Проверка равенства событий: ', all_events, count_events_0 + count_events_1 + count_events_2 + count_events_3 + count_events_4)\n",
    "print(f'Вероятность того, что все мячи белые {probability_1}')\n",
    "print(f'Вероятность того, что ровно 2 мяча белые {probability_2}')\n",
    "print(f'Вероятность того, что хотя бы 1 мяч белый {probability_3}')\n"
   ]
  },
  {
   "cell_type": "code",
   "execution_count": null,
   "metadata": {},
   "outputs": [],
   "source": []
  }
 ],
 "metadata": {
  "kernelspec": {
   "display_name": "Python 3",
   "language": "python",
   "name": "python3"
  },
  "language_info": {
   "codemirror_mode": {
    "name": "ipython",
    "version": 3
   },
   "file_extension": ".py",
   "mimetype": "text/x-python",
   "name": "python",
   "nbconvert_exporter": "python",
   "pygments_lexer": "ipython3",
   "version": "3.7.7"
  }
 },
 "nbformat": 4,
 "nbformat_minor": 4
}
