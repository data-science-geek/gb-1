{
 "cells": [
  {
   "cell_type": "markdown",
   "metadata": {},
   "source": [
    "# Список задач\n",
    "1. Даны значения зарплат из выборки выпускников: 100, 80, 75, 77, 89, 33, 45, 25, 65, 17, 30, 24, 57, 55, 70, 75, 65, 84, 90, 150. Посчитать (желательно без использования статистических методов наподобие std, var, mean) среднее арифметическое, среднее квадратичное отклонение, смещенную и несмещенную оценки дисперсий для данной выборки.\n",
    "2. В первом ящике находится 8 мячей, из которых 5 - белые. Во втором ящике - 12 мячей, из которых 5 белых. Из первого ящика вытаскивают случайным образом два мяча, из второго - 4. Какова вероятность того, что 3 мяча белые?\n",
    "3. На соревновании по биатлону один из трех спортсменов стреляет и попадает в мишень. Вероятность попадания для первого спортсмена равна 0.9, для второго — 0.8, для третьего — 0.6. Найти вероятность того, что выстрел произведен: a). первым спортсменом б). вторым спортсменом в). третьим спортсменом.\n",
    "4. В университет на факультеты A и B поступило равное количество студентов, а на факультет C студентов поступило столько же, сколько на A и B вместе. Вероятность того, что студент факультета A сдаст первую сессию, равна 0.8. Для студента факультета B эта вероятность равна 0.7, а для студента факультета C - 0.9. Студент сдал первую сессию. Какова вероятность, что он учится: a). на факультете A б). на факультете B в). на факультете C?\n",
    "5. Устройство состоит из трех деталей. Для первой детали вероятность выйти из строя в первый месяц равна 0.1, для второй - 0.2, для третьей - 0.25. Какова вероятность того, что в первый месяц выйдут из строя: а). все детали б). только две детали в). хотя бы одна деталь г). от одной до двух деталей?"
   ]
  },
  {
   "cell_type": "code",
   "execution_count": 14,
   "metadata": {},
   "outputs": [],
   "source": [
    "from math import factorial, exp\n",
    "\n",
    "def arrangements(n, k):\n",
    "    return factorial(n) / factorial(n-k)\n",
    "\n",
    "def combinations(n, k):\n",
    "    return factorial(n) / (factorial(k) * factorial(n-k))\n",
    "\n",
    "def permutations(n):\n",
    "    return factorial(n)\n",
    "\n",
    "def factorial(n):\n",
    "    if n < 0:\n",
    "        raise ValueError\n",
    "    result = 1\n",
    "    for i in range(1, n+1):\n",
    "        result *= i\n",
    "    return result        \n",
    "\n",
    "def binomial_distribution(n, k, p):\n",
    "    q = 1 - p\n",
    "    return combinations(n,k) * (p ** k) * (q ** (n - k))\n",
    "\n",
    "def poisson_distribution(n, m, p):\n",
    "    lambd = n * p\n",
    "    return ((lambd ** m) / factorial(m)) * exp(-lambd)\n",
    "    "
   ]
  },
  {
   "cell_type": "code",
   "execution_count": 13,
   "metadata": {},
   "outputs": [
    {
     "name": "stdout",
     "output_type": "stream",
     "text": [
      "среднее арифметическое 65.3\n",
      "среднее квадратичное отклонение 30.823854398825596\n",
      "смещенная оценка дисперсии 950.11\n",
      "несмещенная оценка дисперсии 1000.1157894736842\n"
     ]
    }
   ],
   "source": [
    "# Задача 1\n",
    "def func_mean(array):\n",
    "    return sum(array) / len(array)\n",
    "\n",
    "def func_variance(array, ddof=0):\n",
    "    x_mean = func_mean(array)\n",
    "    var = sum([(x - x_mean) ** 2 for x in array]) / (len(array) - ddof)\n",
    "    return var\n",
    "\n",
    "def func_std(array, ddof=0):\n",
    "    return func_variance(array, ddof) ** 0.5\n",
    "\n",
    "graduates_salary = [100, 80, 75, 77, 89, 33, 45, 25, 65, 17, 30, 24, 57, 55, 70, 75, 65, 84, 90, 150]\n",
    "print(f\"\"\"среднее арифметическое {func_mean(graduates_salary)}\n",
    "среднее квадратичное отклонение {func_std(graduates_salary)}\n",
    "смещенная оценка дисперсии {func_variance(graduates_salary)}\n",
    "несмещенная оценка дисперсии {func_variance(graduates_salary, ddof=1)}\"\"\")"
   ]
  },
  {
   "cell_type": "code",
   "execution_count": 18,
   "metadata": {
    "scrolled": true
   },
   "outputs": [
    {
     "name": "stdout",
     "output_type": "stream",
     "text": [
      "0.39141414141414144\n"
     ]
    }
   ],
   "source": [
    "# Задача 2\n",
    "C = combinations\n",
    "probability_2_1 = (C(5,2) / C(8,2)) * (C(5,1) * C(7,3) / C(12,4))\n",
    "probability_1_2 = (C(5,1) * C(3,1) / C(8,2)) * (C(5,2) * C(7,2) / C(12,4))\n",
    "probability_0_3 = (C(3,2) / C(8,2)) * (C(7,3) * C(5,1) / C(12,4))\n",
    "print(probability_2_1 + probability_1_2 + probability_0_3)"
   ]
  },
  {
   "cell_type": "code",
   "execution_count": 22,
   "metadata": {},
   "outputs": [
    {
     "name": "stdout",
     "output_type": "stream",
     "text": [
      "a) 0.3913043478260869\n",
      "б) 0.34782608695652173\n",
      "в) 0.26086956521739124\n"
     ]
    }
   ],
   "source": [
    "# Задача 3\n",
    "probability_target = 1/3 * (0.9 + 0.8 + 0.6)\n",
    "probability_first_man = (1/3 * 0.9) / probability_target\n",
    "probability_second_man = (1/3 * 0.8) / probability_target\n",
    "probability_third_man = (1/3 * 0.6) / probability_target\n",
    "\n",
    "print(f'a) {probability_first_man}')\n",
    "print(f'б) {probability_second_man}')\n",
    "print(f'в) {probability_third_man}')"
   ]
  },
  {
   "cell_type": "code",
   "execution_count": 24,
   "metadata": {},
   "outputs": [
    {
     "name": "stdout",
     "output_type": "stream",
     "text": [
      "a) 0.24242424242424246\n",
      "б) 0.21212121212121213\n",
      "в) 0.5454545454545455\n"
     ]
    }
   ],
   "source": [
    "# Задача 4\n",
    "p_faculty_a, p_faculty_b, p_faculty_c = 1/4, 1/4, 1/2\n",
    "p_success_a = 0.8\n",
    "p_success_b = 0.7\n",
    "p_success_c = 0.9\n",
    "\n",
    "p_success = p_faculty_a * p_success_a + p_faculty_b * p_success_b + p_faculty_c * p_success_c\n",
    "\n",
    "p_a = (p_faculty_a * p_success_a) / p_success\n",
    "p_b = (p_faculty_b * p_success_b) / p_success\n",
    "p_c = (p_faculty_c * p_success_c) / p_success\n",
    "\n",
    "print(f'a) {p_a}')\n",
    "print(f'б) {p_b}')\n",
    "print(f'в) {p_c}')"
   ]
  },
  {
   "cell_type": "code",
   "execution_count": 31,
   "metadata": {},
   "outputs": [
    {
     "name": "stdout",
     "output_type": "stream",
     "text": [
      "a) 0.005000000000000001\n",
      "б) 0.07999999999999996\n",
      "в) 0.45999999999999996\n",
      "г) 0.45499999999999996\n"
     ]
    }
   ],
   "source": [
    "# Задача 5\n",
    "\n",
    "p1, p2, p3 = 0.1, 0.2, 0.25\n",
    "\n",
    "p_three_detail = p1 * p2 * p3\n",
    "p_one_detail = p1 * (1-p2) * (1-p3) + p2 * (1-p1) * (1-p3) + p3 * (1-p2) * (1-p1)\n",
    "p_zero_detail = (1-p1) * (1-p2) * (1-p3)\n",
    "p_two_detail = 1 - p_three_detail - p_one_detail - p_zero_detail\n",
    "\n",
    "p_a = p_three_detail\n",
    "p_b = p_two_detail\n",
    "p_c = p_one_detail + p_two_detail + p_three_detail\n",
    "p_d = p_one_detail + p_two_detail\n",
    "\n",
    "print(f'a) {p_a}')\n",
    "print(f'б) {p_b}')\n",
    "print(f'в) {p_c}')\n",
    "print(f'г) {p_d}')"
   ]
  },
  {
   "cell_type": "code",
   "execution_count": null,
   "metadata": {},
   "outputs": [],
   "source": []
  }
 ],
 "metadata": {
  "kernelspec": {
   "display_name": "Python 3",
   "language": "python",
   "name": "python3"
  },
  "language_info": {
   "codemirror_mode": {
    "name": "ipython",
    "version": 3
   },
   "file_extension": ".py",
   "mimetype": "text/x-python",
   "name": "python",
   "nbconvert_exporter": "python",
   "pygments_lexer": "ipython3",
   "version": "3.7.7"
  }
 },
 "nbformat": 4,
 "nbformat_minor": 4
}
